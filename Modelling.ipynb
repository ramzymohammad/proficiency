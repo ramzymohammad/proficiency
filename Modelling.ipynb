{
 "cells": [
  {
   "cell_type": "markdown",
   "id": "certified-standing",
   "metadata": {},
   "source": [
    "# Proficiency Test"
   ]
  },
  {
   "cell_type": "markdown",
   "id": "baking-situation",
   "metadata": {},
   "source": [
    "#### NAME : RAMZY MOHAMMAD\n",
    "#### IYKRA DATA FELLOWSHIP BATCH 6"
   ]
  },
  {
   "cell_type": "code",
   "execution_count": 218,
   "id": "analyzed-boston",
   "metadata": {},
   "outputs": [],
   "source": [
    "import numpy as np\n",
    "import pandas as pd\n",
    "\n",
    "from sklearn.model_selection import train_test_split\n",
    "from sklearn.pipeline import Pipeline\n",
    "from sklearn.compose import ColumnTransformer\n",
    "from sklearn.ensemble import RandomForestRegressor\n",
    "from jcopml.pipeline import num_pipe, cat_pipe\n",
    "from jcopml.utils import save_model, load_model\n",
    "from jcopml.plot import plot_missing_value\n",
    "from jcopml.feature_importance import mean_score_decrease"
   ]
  },
  {
   "cell_type": "code",
   "execution_count": 219,
   "id": "hispanic-asbestos",
   "metadata": {},
   "outputs": [
    {
     "name": "stderr",
     "output_type": "stream",
     "text": [
      "c:\\users\\asus\\appdata\\local\\programs\\python\\python38\\lib\\site-packages\\IPython\\core\\interactiveshell.py:3146: DtypeWarning: Columns (0) have mixed types.Specify dtype option on import or set low_memory=False.\n",
      "  has_raised = await self.run_ast_nodes(code_ast.body, cell_name,\n"
     ]
    }
   ],
   "source": [
    "df = pd.read_csv(\"mantap.csv\")"
   ]
  },
  {
   "cell_type": "code",
   "execution_count": 220,
   "id": "restricted-volleyball",
   "metadata": {},
   "outputs": [
    {
     "data": {
      "text/html": [
       "<div>\n",
       "<style scoped>\n",
       "    .dataframe tbody tr th:only-of-type {\n",
       "        vertical-align: middle;\n",
       "    }\n",
       "\n",
       "    .dataframe tbody tr th {\n",
       "        vertical-align: top;\n",
       "    }\n",
       "\n",
       "    .dataframe thead th {\n",
       "        text-align: right;\n",
       "    }\n",
       "</style>\n",
       "<table border=\"1\" class=\"dataframe\">\n",
       "  <thead>\n",
       "    <tr style=\"text-align: right;\">\n",
       "      <th></th>\n",
       "      <th>INCIDENT_NUMBER</th>\n",
       "      <th>DISTRICT</th>\n",
       "      <th>YEAR</th>\n",
       "      <th>MONTH</th>\n",
       "      <th>DAY_OF_WEEK</th>\n",
       "      <th>HOUR</th>\n",
       "      <th>district</th>\n",
       "      <th>offense_description</th>\n",
       "    </tr>\n",
       "  </thead>\n",
       "  <tbody>\n",
       "    <tr>\n",
       "      <th>0</th>\n",
       "      <td>I192077559</td>\n",
       "      <td>B3</td>\n",
       "      <td>2018</td>\n",
       "      <td>4</td>\n",
       "      <td>Monday</td>\n",
       "      <td>9</td>\n",
       "      <td>B</td>\n",
       "      <td>investigate person</td>\n",
       "    </tr>\n",
       "    <tr>\n",
       "      <th>1</th>\n",
       "      <td>I192077332</td>\n",
       "      <td>E18</td>\n",
       "      <td>2018</td>\n",
       "      <td>3</td>\n",
       "      <td>Tuesday</td>\n",
       "      <td>8</td>\n",
       "      <td>E</td>\n",
       "      <td>larceny all others</td>\n",
       "    </tr>\n",
       "    <tr>\n",
       "      <th>2</th>\n",
       "      <td>I192076660</td>\n",
       "      <td>E5</td>\n",
       "      <td>2018</td>\n",
       "      <td>10</td>\n",
       "      <td>Wednesday</td>\n",
       "      <td>12</td>\n",
       "      <td>E</td>\n",
       "      <td>harassment</td>\n",
       "    </tr>\n",
       "    <tr>\n",
       "      <th>3</th>\n",
       "      <td>I192075386</td>\n",
       "      <td>A1</td>\n",
       "      <td>2018</td>\n",
       "      <td>4</td>\n",
       "      <td>Monday</td>\n",
       "      <td>8</td>\n",
       "      <td>A</td>\n",
       "      <td>harassment</td>\n",
       "    </tr>\n",
       "    <tr>\n",
       "      <th>4</th>\n",
       "      <td>I192075335</td>\n",
       "      <td>D4</td>\n",
       "      <td>2018</td>\n",
       "      <td>1</td>\n",
       "      <td>Monday</td>\n",
       "      <td>0</td>\n",
       "      <td>D</td>\n",
       "      <td>property</td>\n",
       "    </tr>\n",
       "    <tr>\n",
       "      <th>...</th>\n",
       "      <td>...</td>\n",
       "      <td>...</td>\n",
       "      <td>...</td>\n",
       "      <td>...</td>\n",
       "      <td>...</td>\n",
       "      <td>...</td>\n",
       "      <td>...</td>\n",
       "      <td>...</td>\n",
       "    </tr>\n",
       "    <tr>\n",
       "      <th>189078</th>\n",
       "      <td>20063425</td>\n",
       "      <td>A7</td>\n",
       "      <td>2020</td>\n",
       "      <td>9</td>\n",
       "      <td>Tuesday</td>\n",
       "      <td>0</td>\n",
       "      <td>A</td>\n",
       "      <td>investigate property</td>\n",
       "    </tr>\n",
       "    <tr>\n",
       "      <th>189079</th>\n",
       "      <td>20062356</td>\n",
       "      <td>E18</td>\n",
       "      <td>2020</td>\n",
       "      <td>8</td>\n",
       "      <td>Friday</td>\n",
       "      <td>18</td>\n",
       "      <td>E</td>\n",
       "      <td>fraud</td>\n",
       "    </tr>\n",
       "    <tr>\n",
       "      <th>189080</th>\n",
       "      <td>20046400</td>\n",
       "      <td>B2</td>\n",
       "      <td>2020</td>\n",
       "      <td>7</td>\n",
       "      <td>Thursday</td>\n",
       "      <td>1</td>\n",
       "      <td>B</td>\n",
       "      <td>weapon violation</td>\n",
       "    </tr>\n",
       "    <tr>\n",
       "      <th>189081</th>\n",
       "      <td>20038446</td>\n",
       "      <td>B2</td>\n",
       "      <td>2020</td>\n",
       "      <td>6</td>\n",
       "      <td>Wednesday</td>\n",
       "      <td>1</td>\n",
       "      <td>B</td>\n",
       "      <td>weapon violation</td>\n",
       "    </tr>\n",
       "    <tr>\n",
       "      <th>189082</th>\n",
       "      <td>20030892</td>\n",
       "      <td>C11</td>\n",
       "      <td>2020</td>\n",
       "      <td>5</td>\n",
       "      <td>Sunday</td>\n",
       "      <td>0</td>\n",
       "      <td>C</td>\n",
       "      <td>burglary</td>\n",
       "    </tr>\n",
       "  </tbody>\n",
       "</table>\n",
       "<p>189083 rows × 8 columns</p>\n",
       "</div>"
      ],
      "text/plain": [
       "       INCIDENT_NUMBER DISTRICT  YEAR  MONTH DAY_OF_WEEK  HOUR district  \\\n",
       "0           I192077559       B3  2018      4      Monday     9        B   \n",
       "1           I192077332      E18  2018      3     Tuesday     8        E   \n",
       "2           I192076660       E5  2018     10   Wednesday    12        E   \n",
       "3           I192075386       A1  2018      4      Monday     8        A   \n",
       "4           I192075335       D4  2018      1      Monday     0        D   \n",
       "...                ...      ...   ...    ...         ...   ...      ...   \n",
       "189078        20063425       A7  2020      9     Tuesday     0        A   \n",
       "189079        20062356      E18  2020      8      Friday    18        E   \n",
       "189080        20046400       B2  2020      7    Thursday     1        B   \n",
       "189081        20038446       B2  2020      6   Wednesday     1        B   \n",
       "189082        20030892      C11  2020      5      Sunday     0        C   \n",
       "\n",
       "         offense_description  \n",
       "0         investigate person  \n",
       "1         larceny all others  \n",
       "2                 harassment  \n",
       "3                 harassment  \n",
       "4                   property  \n",
       "...                      ...  \n",
       "189078  investigate property  \n",
       "189079                 fraud  \n",
       "189080      weapon violation  \n",
       "189081      weapon violation  \n",
       "189082              burglary  \n",
       "\n",
       "[189083 rows x 8 columns]"
      ]
     },
     "execution_count": 220,
     "metadata": {},
     "output_type": "execute_result"
    }
   ],
   "source": [
    "df"
   ]
  },
  {
   "cell_type": "code",
   "execution_count": 221,
   "id": "acquired-protest",
   "metadata": {},
   "outputs": [
    {
     "data": {
      "text/plain": [
       "INCIDENT_NUMBER        0\n",
       "DISTRICT               0\n",
       "YEAR                   0\n",
       "MONTH                  0\n",
       "DAY_OF_WEEK            0\n",
       "HOUR                   0\n",
       "district               0\n",
       "offense_description    0\n",
       "dtype: int64"
      ]
     },
     "execution_count": 221,
     "metadata": {},
     "output_type": "execute_result"
    }
   ],
   "source": [
    "df.isna().sum()"
   ]
  },
  {
   "cell_type": "code",
   "execution_count": 222,
   "id": "funded-virtue",
   "metadata": {},
   "outputs": [],
   "source": [
    "df = df.sample(n=7000)"
   ]
  },
  {
   "cell_type": "code",
   "execution_count": 223,
   "id": "becoming-photography",
   "metadata": {},
   "outputs": [
    {
     "data": {
      "text/html": [
       "<div>\n",
       "<style scoped>\n",
       "    .dataframe tbody tr th:only-of-type {\n",
       "        vertical-align: middle;\n",
       "    }\n",
       "\n",
       "    .dataframe tbody tr th {\n",
       "        vertical-align: top;\n",
       "    }\n",
       "\n",
       "    .dataframe thead th {\n",
       "        text-align: right;\n",
       "    }\n",
       "</style>\n",
       "<table border=\"1\" class=\"dataframe\">\n",
       "  <thead>\n",
       "    <tr style=\"text-align: right;\">\n",
       "      <th></th>\n",
       "      <th>INCIDENT_NUMBER</th>\n",
       "      <th>DISTRICT</th>\n",
       "      <th>YEAR</th>\n",
       "      <th>MONTH</th>\n",
       "      <th>DAY_OF_WEEK</th>\n",
       "      <th>HOUR</th>\n",
       "      <th>district</th>\n",
       "      <th>offense_description</th>\n",
       "    </tr>\n",
       "  </thead>\n",
       "  <tbody>\n",
       "    <tr>\n",
       "      <th>158446</th>\n",
       "      <td>202043007</td>\n",
       "      <td>E18</td>\n",
       "      <td>2020</td>\n",
       "      <td>6</td>\n",
       "      <td>Friday</td>\n",
       "      <td>12</td>\n",
       "      <td>E</td>\n",
       "      <td>larceny theft from mv</td>\n",
       "    </tr>\n",
       "    <tr>\n",
       "      <th>51903</th>\n",
       "      <td>I182050041</td>\n",
       "      <td>B3</td>\n",
       "      <td>2018</td>\n",
       "      <td>6</td>\n",
       "      <td>Tuesday</td>\n",
       "      <td>13</td>\n",
       "      <td>B</td>\n",
       "      <td>assault simple</td>\n",
       "    </tr>\n",
       "    <tr>\n",
       "      <th>138134</th>\n",
       "      <td>202070413</td>\n",
       "      <td>A7</td>\n",
       "      <td>2020</td>\n",
       "      <td>9</td>\n",
       "      <td>Saturday</td>\n",
       "      <td>0</td>\n",
       "      <td>A</td>\n",
       "      <td>sick</td>\n",
       "    </tr>\n",
       "    <tr>\n",
       "      <th>50792</th>\n",
       "      <td>I182051164</td>\n",
       "      <td>B2</td>\n",
       "      <td>2018</td>\n",
       "      <td>6</td>\n",
       "      <td>Friday</td>\n",
       "      <td>20</td>\n",
       "      <td>B</td>\n",
       "      <td>death investigation</td>\n",
       "    </tr>\n",
       "    <tr>\n",
       "      <th>149590</th>\n",
       "      <td>202055011</td>\n",
       "      <td>B2</td>\n",
       "      <td>2020</td>\n",
       "      <td>8</td>\n",
       "      <td>Sunday</td>\n",
       "      <td>20</td>\n",
       "      <td>B</td>\n",
       "      <td>motor vehicle accident</td>\n",
       "    </tr>\n",
       "    <tr>\n",
       "      <th>...</th>\n",
       "      <td>...</td>\n",
       "      <td>...</td>\n",
       "      <td>...</td>\n",
       "      <td>...</td>\n",
       "      <td>...</td>\n",
       "      <td>...</td>\n",
       "      <td>...</td>\n",
       "      <td>...</td>\n",
       "    </tr>\n",
       "    <tr>\n",
       "      <th>155549</th>\n",
       "      <td>202046935</td>\n",
       "      <td>A7</td>\n",
       "      <td>2020</td>\n",
       "      <td>7</td>\n",
       "      <td>Friday</td>\n",
       "      <td>21</td>\n",
       "      <td>A</td>\n",
       "      <td>investigate property</td>\n",
       "    </tr>\n",
       "    <tr>\n",
       "      <th>149029</th>\n",
       "      <td>202055753</td>\n",
       "      <td>A15</td>\n",
       "      <td>2020</td>\n",
       "      <td>8</td>\n",
       "      <td>Wednesday</td>\n",
       "      <td>12</td>\n",
       "      <td>A</td>\n",
       "      <td>investigate person</td>\n",
       "    </tr>\n",
       "    <tr>\n",
       "      <th>85500</th>\n",
       "      <td>I182014288</td>\n",
       "      <td>C11</td>\n",
       "      <td>2018</td>\n",
       "      <td>2</td>\n",
       "      <td>Friday</td>\n",
       "      <td>17</td>\n",
       "      <td>C</td>\n",
       "      <td>assault simple</td>\n",
       "    </tr>\n",
       "    <tr>\n",
       "      <th>70776</th>\n",
       "      <td>I182030023</td>\n",
       "      <td>B2</td>\n",
       "      <td>2018</td>\n",
       "      <td>4</td>\n",
       "      <td>Sunday</td>\n",
       "      <td>8</td>\n",
       "      <td>B</td>\n",
       "      <td>sick</td>\n",
       "    </tr>\n",
       "    <tr>\n",
       "      <th>142488</th>\n",
       "      <td>202064644</td>\n",
       "      <td>D4</td>\n",
       "      <td>2020</td>\n",
       "      <td>9</td>\n",
       "      <td>Saturday</td>\n",
       "      <td>14</td>\n",
       "      <td>D</td>\n",
       "      <td>sick assist</td>\n",
       "    </tr>\n",
       "  </tbody>\n",
       "</table>\n",
       "<p>7000 rows × 8 columns</p>\n",
       "</div>"
      ],
      "text/plain": [
       "       INCIDENT_NUMBER DISTRICT  YEAR  MONTH DAY_OF_WEEK  HOUR district  \\\n",
       "158446       202043007      E18  2020      6      Friday    12        E   \n",
       "51903       I182050041       B3  2018      6     Tuesday    13        B   \n",
       "138134       202070413       A7  2020      9    Saturday     0        A   \n",
       "50792       I182051164       B2  2018      6      Friday    20        B   \n",
       "149590       202055011       B2  2020      8      Sunday    20        B   \n",
       "...                ...      ...   ...    ...         ...   ...      ...   \n",
       "155549       202046935       A7  2020      7      Friday    21        A   \n",
       "149029       202055753      A15  2020      8   Wednesday    12        A   \n",
       "85500       I182014288      C11  2018      2      Friday    17        C   \n",
       "70776       I182030023       B2  2018      4      Sunday     8        B   \n",
       "142488       202064644       D4  2020      9    Saturday    14        D   \n",
       "\n",
       "           offense_description  \n",
       "158446   larceny theft from mv  \n",
       "51903           assault simple  \n",
       "138134                    sick  \n",
       "50792      death investigation  \n",
       "149590  motor vehicle accident  \n",
       "...                        ...  \n",
       "155549    investigate property  \n",
       "149029      investigate person  \n",
       "85500           assault simple  \n",
       "70776                     sick  \n",
       "142488             sick assist  \n",
       "\n",
       "[7000 rows x 8 columns]"
      ]
     },
     "execution_count": 223,
     "metadata": {},
     "output_type": "execute_result"
    }
   ],
   "source": [
    "df"
   ]
  },
  {
   "cell_type": "code",
   "execution_count": 224,
   "id": "stainless-cartridge",
   "metadata": {},
   "outputs": [],
   "source": [
    "df = df.replace(r'^\\s*$', np.NaN, regex=True)"
   ]
  },
  {
   "cell_type": "markdown",
   "id": "pregnant-vulnerability",
   "metadata": {},
   "source": [
    "# DataSplitting"
   ]
  },
  {
   "cell_type": "code",
   "execution_count": 225,
   "id": "handmade-insurance",
   "metadata": {},
   "outputs": [
    {
     "data": {
      "text/plain": [
       "((5600, 4), (1400, 4), (5600,), (1400,))"
      ]
     },
     "execution_count": 225,
     "metadata": {},
     "output_type": "execute_result"
    }
   ],
   "source": [
    "X = df.drop(columns=[\"INCIDENT_NUMBER\", \"YEAR\", \"HOUR\", \"district\"])\n",
    "y = df.HOUR\n",
    "\n",
    "X_train, X_test, y_train, y_test = train_test_split(X, y, test_size=0.2, random_state=42)\n",
    "X_train.shape, X_test.shape, y_train.shape, y_test.shape"
   ]
  },
  {
   "cell_type": "markdown",
   "id": "biblical-boulder",
   "metadata": {},
   "source": [
    "# Training"
   ]
  },
  {
   "cell_type": "code",
   "execution_count": 226,
   "id": "computational-drawing",
   "metadata": {},
   "outputs": [
    {
     "name": "stdout",
     "output_type": "stream",
     "text": [
      "<class 'pandas.core.frame.DataFrame'>\n",
      "Int64Index: 5600 entries, 2441 to 73137\n",
      "Data columns (total 4 columns):\n",
      " #   Column               Non-Null Count  Dtype \n",
      "---  ------               --------------  ----- \n",
      " 0   DISTRICT             5600 non-null   object\n",
      " 1   MONTH                5600 non-null   int64 \n",
      " 2   DAY_OF_WEEK          5600 non-null   object\n",
      " 3   offense_description  5600 non-null   object\n",
      "dtypes: int64(1), object(3)\n",
      "memory usage: 218.8+ KB\n"
     ]
    }
   ],
   "source": [
    "X_train.info()"
   ]
  },
  {
   "cell_type": "code",
   "execution_count": 227,
   "id": "peaceful-folder",
   "metadata": {},
   "outputs": [],
   "source": [
    "from sklearn.svm import SVR\n",
    "from sklearn.model_selection import GridSearchCV\n",
    "from sklearn.preprocessing import OneHotEncoder\n",
    "from sklearn.model_selection import cross_val_score"
   ]
  },
  {
   "cell_type": "markdown",
   "id": "metropolitan-tanzania",
   "metadata": {},
   "source": [
    "# Modelling"
   ]
  },
  {
   "cell_type": "markdown",
   "id": "olive-phrase",
   "metadata": {},
   "source": [
    "## RandomForestRegressor"
   ]
  },
  {
   "cell_type": "code",
   "execution_count": 248,
   "id": "undefined-injection",
   "metadata": {},
   "outputs": [
    {
     "data": {
      "text/plain": [
       "{'algo__n_estimators': [100, 150, 200],\n",
       " 'algo__max_depth': [20, 50, 80],\n",
       " 'algo__max_features': [0.3, 0.6, 0.8],\n",
       " 'algo__min_samples_leaf': [1, 5, 10]}"
      ]
     },
     "execution_count": 248,
     "metadata": {},
     "output_type": "execute_result"
    }
   ],
   "source": [
    "gsp.rf_params"
   ]
  },
  {
   "cell_type": "code",
   "execution_count": 249,
   "id": "current-printer",
   "metadata": {},
   "outputs": [
    {
     "name": "stdout",
     "output_type": "stream",
     "text": [
      "Fitting 3 folds for each of 81 candidates, totalling 243 fits\n"
     ]
    },
    {
     "name": "stderr",
     "output_type": "stream",
     "text": [
      "[Parallel(n_jobs=-1)]: Using backend LokyBackend with 4 concurrent workers.\n",
      "[Parallel(n_jobs=-1)]: Done  42 tasks      | elapsed:   19.4s\n",
      "[Parallel(n_jobs=-1)]: Done 192 tasks      | elapsed:  2.9min\n",
      "[Parallel(n_jobs=-1)]: Done 243 out of 243 | elapsed:  4.1min finished\n"
     ]
    },
    {
     "name": "stdout",
     "output_type": "stream",
     "text": [
      "{'algo__max_depth': 20, 'algo__max_features': 0.3, 'algo__min_samples_leaf': 10, 'algo__n_estimators': 200}\n",
      "0.08713449086717528 0.006529914377437773 0.018585032412645086\n"
     ]
    }
   ],
   "source": [
    "preprocessor = ColumnTransformer([\n",
    "    ('numeric', num_pipe(), ['MONTH']),\n",
    "    ('categoric', cat_pipe(encoder='onehot'), ['DAY_OF_WEEK', 'DISTRICT', 'offense_description']),\n",
    "    \n",
    "])\n",
    "\n",
    "\n",
    "pipeline = Pipeline([\n",
    "    ('prep', preprocessor),\n",
    "    ('algo', RandomForestRegressor(n_jobs=-1, random_state=42))\n",
    "])\n",
    "\n",
    "\n",
    "model = GridSearchCV(pipeline, gsp.rf_params, scoring = 'r2', cv=3, n_jobs=-1, verbose=1)\n",
    "model.fit(X_train, y_train)\n",
    "\n",
    "print(model.best_params_)\n",
    "print(model.score(X_train, y_train), model.best_score_, model.score(X_test, y_test))"
   ]
  },
  {
   "cell_type": "markdown",
   "id": "grateful-hudson",
   "metadata": {},
   "source": [
    "## SVMRegressor"
   ]
  },
  {
   "cell_type": "code",
   "execution_count": 230,
   "id": "funny-apollo",
   "metadata": {},
   "outputs": [],
   "source": [
    "from sklearn.svm import SVR\n",
    "from sklearn.model_selection import GridSearchCV\n",
    "from jcopml.tuning import grid_search_params as gsp"
   ]
  },
  {
   "cell_type": "code",
   "execution_count": 231,
   "id": "brazilian-study",
   "metadata": {},
   "outputs": [
    {
     "data": {
      "text/plain": [
       "{'algo__gamma': array([1.e-03, 1.e-02, 1.e-01, 1.e+00, 1.e+01, 1.e+02, 1.e+03]),\n",
       " 'algo__C': array([1.e-03, 1.e-02, 1.e-01, 1.e+00, 1.e+01, 1.e+02, 1.e+03])}"
      ]
     },
     "execution_count": 231,
     "metadata": {},
     "output_type": "execute_result"
    }
   ],
   "source": [
    "gsp.svm_params"
   ]
  },
  {
   "cell_type": "code",
   "execution_count": 233,
   "id": "composite-stream",
   "metadata": {},
   "outputs": [
    {
     "name": "stdout",
     "output_type": "stream",
     "text": [
      "Fitting 3 folds for each of 49 candidates, totalling 147 fits\n"
     ]
    },
    {
     "name": "stderr",
     "output_type": "stream",
     "text": [
      "[Parallel(n_jobs=-1)]: Using backend LokyBackend with 4 concurrent workers.\n",
      "[Parallel(n_jobs=-1)]: Done  42 tasks      | elapsed:    6.3s\n",
      "[Parallel(n_jobs=-1)]: Done 147 out of 147 | elapsed:   22.6s finished\n",
      "c:\\users\\asus\\appdata\\local\\programs\\python\\python38\\lib\\site-packages\\sklearn\\svm\\_base.py:246: ConvergenceWarning: Solver terminated early (max_iter=500).  Consider pre-processing your data with StandardScaler or MinMaxScaler.\n",
      "  warnings.warn('Solver terminated early (max_iter=%i).'\n"
     ]
    },
    {
     "name": "stdout",
     "output_type": "stream",
     "text": [
      "{'algo__C': 0.001, 'algo__gamma': 10.0}\n",
      "-0.0960835799848867 -0.05390702147721297 -0.08794601517976242\n"
     ]
    }
   ],
   "source": [
    "preprocessor = ColumnTransformer([\n",
    "    ('categoric1', cat_pipe(encoder='ordinal'), ['MONTH']),\n",
    "    ('categoric', cat_pipe(encoder='onehot'), ['DAY_OF_WEEK', 'DISTRICT', 'offense_description']),\n",
    "])\n",
    "\n",
    "\n",
    "pipeline = Pipeline([\n",
    "    ('prep', preprocessor),\n",
    "    ('algo', SVR(max_iter=500))\n",
    "])\n",
    "\n",
    "model = GridSearchCV(pipeline, gsp.svm_params, cv=3, n_jobs=-1, verbose=1)\n",
    "model.fit(X_train, y_train)\n",
    "\n",
    "print(model.best_params_)\n",
    "print(model.score(X_train, y_train), model.best_score_, model.score(X_test, y_test))"
   ]
  },
  {
   "cell_type": "markdown",
   "id": "dated-longitude",
   "metadata": {},
   "source": [
    "## KNNRegressor"
   ]
  },
  {
   "cell_type": "code",
   "execution_count": 234,
   "id": "included-florence",
   "metadata": {},
   "outputs": [],
   "source": [
    "from sklearn.pipeline import Pipeline\n",
    "from sklearn.impute import SimpleImputer\n",
    "from sklearn.preprocessing import MinMaxScaler, OneHotEncoder"
   ]
  },
  {
   "cell_type": "code",
   "execution_count": 235,
   "id": "worth-montana",
   "metadata": {},
   "outputs": [],
   "source": [
    "numerical_pipeline = Pipeline([\n",
    "    ('imputer', SimpleImputer(strategy='mean')),\n",
    "    ('scaler', MinMaxScaler())\n",
    "])\n",
    "\n",
    "categorical_pipeline = Pipeline([\n",
    "    ('imputer', SimpleImputer(strategy='most_frequent')),\n",
    "    ('onehot', OneHotEncoder(handle_unknown = 'ignore'))\n",
    "])"
   ]
  },
  {
   "cell_type": "code",
   "execution_count": 236,
   "id": "peaceful-replica",
   "metadata": {},
   "outputs": [],
   "source": [
    "from sklearn.compose import ColumnTransformer"
   ]
  },
  {
   "cell_type": "code",
   "execution_count": 237,
   "id": "jewish-rabbit",
   "metadata": {},
   "outputs": [],
   "source": [
    "preprocessor = ColumnTransformer([\n",
    "    ('numeric', numerical_pipeline, ['MONTH']),\n",
    "    ('categoric', categorical_pipeline, ['DAY_OF_WEEK', 'DISTRICT','offense_description'])\n",
    "])"
   ]
  },
  {
   "cell_type": "code",
   "execution_count": 238,
   "id": "caring-leone",
   "metadata": {},
   "outputs": [],
   "source": [
    "from sklearn.neighbors import KNeighborsRegressor"
   ]
  },
  {
   "cell_type": "code",
   "execution_count": 239,
   "id": "afraid-netherlands",
   "metadata": {},
   "outputs": [],
   "source": [
    "pipeline = Pipeline([\n",
    "    ('prep', preprocessor),\n",
    "    ('algo', KNeighborsRegressor())\n",
    "])"
   ]
  },
  {
   "cell_type": "code",
   "execution_count": 240,
   "id": "invisible-giving",
   "metadata": {},
   "outputs": [
    {
     "data": {
      "text/plain": [
       "Pipeline(steps=[('prep',\n",
       "                 ColumnTransformer(transformers=[('numeric',\n",
       "                                                  Pipeline(steps=[('imputer',\n",
       "                                                                   SimpleImputer()),\n",
       "                                                                  ('scaler',\n",
       "                                                                   MinMaxScaler())]),\n",
       "                                                  ['MONTH']),\n",
       "                                                 ('categoric',\n",
       "                                                  Pipeline(steps=[('imputer',\n",
       "                                                                   SimpleImputer(strategy='most_frequent')),\n",
       "                                                                  ('onehot',\n",
       "                                                                   OneHotEncoder(handle_unknown='ignore'))]),\n",
       "                                                  ['DAY_OF_WEEK', 'DISTRICT',\n",
       "                                                   'offense_description'])])),\n",
       "                ('algo', KNeighborsRegressor())])"
      ]
     },
     "execution_count": 240,
     "metadata": {},
     "output_type": "execute_result"
    }
   ],
   "source": [
    "pipeline.fit(X_train, y_train)"
   ]
  },
  {
   "cell_type": "code",
   "execution_count": 241,
   "id": "ancient-violin",
   "metadata": {},
   "outputs": [
    {
     "data": {
      "text/plain": [
       "-0.15428206711006642"
      ]
     },
     "execution_count": 241,
     "metadata": {},
     "output_type": "execute_result"
    }
   ],
   "source": [
    "pipeline.score(X_test, y_test)"
   ]
  },
  {
   "cell_type": "code",
   "execution_count": 244,
   "id": "meaningful-laugh",
   "metadata": {},
   "outputs": [],
   "source": [
    "from sklearn.model_selection import GridSearchCV"
   ]
  },
  {
   "cell_type": "code",
   "execution_count": 245,
   "id": "athletic-match",
   "metadata": {},
   "outputs": [
    {
     "name": "stdout",
     "output_type": "stream",
     "text": [
      "Fitting 3 folds for each of 100 candidates, totalling 300 fits\n"
     ]
    },
    {
     "name": "stderr",
     "output_type": "stream",
     "text": [
      "[Parallel(n_jobs=-1)]: Using backend LokyBackend with 4 concurrent workers.\n",
      "[Parallel(n_jobs=-1)]: Done  42 tasks      | elapsed:    4.6s\n",
      "[Parallel(n_jobs=-1)]: Done 192 tasks      | elapsed:   24.8s\n",
      "[Parallel(n_jobs=-1)]: Done 300 out of 300 | elapsed:   40.0s finished\n"
     ]
    },
    {
     "data": {
      "text/plain": [
       "GridSearchCV(cv=3,\n",
       "             estimator=Pipeline(steps=[('prep',\n",
       "                                        ColumnTransformer(transformers=[('numeric',\n",
       "                                                                         Pipeline(steps=[('imputer',\n",
       "                                                                                          SimpleImputer()),\n",
       "                                                                                         ('scaler',\n",
       "                                                                                          MinMaxScaler())]),\n",
       "                                                                         ['MONTH']),\n",
       "                                                                        ('categoric',\n",
       "                                                                         Pipeline(steps=[('imputer',\n",
       "                                                                                          SimpleImputer(strategy='most_frequent')),\n",
       "                                                                                         ('onehot',\n",
       "                                                                                          OneHotEncoder(handle_unknown='ignore'))]),\n",
       "                                                                         ['DAY_OF_WEEK',\n",
       "                                                                          'DISTRICT',\n",
       "                                                                          'offense_description'])])),\n",
       "                                       ('algo', KNeighborsRegressor())]),\n",
       "             n_jobs=-1,\n",
       "             param_grid={'algo__n_neighbors': range(1, 51, 2),\n",
       "                         'algo__p': [1, 2],\n",
       "                         'algo__weights': ['uniform', 'distance']},\n",
       "             scoring='r2', verbose=1)"
      ]
     },
     "execution_count": 245,
     "metadata": {},
     "output_type": "execute_result"
    }
   ],
   "source": [
    "parameter = {\n",
    "    \"algo__n_neighbors\": range(1, 51, 2),\n",
    "    \"algo__weights\": [\"uniform\",\"distance\"],\n",
    "    \"algo__p\": [1, 2]\n",
    "}\n",
    "\n",
    "model = GridSearchCV(pipeline, parameter, cv=3, scoring='r2', n_jobs=-1, verbose=1)\n",
    "model.fit(X_train,y_train)"
   ]
  },
  {
   "cell_type": "code",
   "execution_count": 246,
   "id": "suspended-consideration",
   "metadata": {},
   "outputs": [
    {
     "data": {
      "text/plain": [
       "{'algo__n_neighbors': 49, 'algo__p': 2, 'algo__weights': 'uniform'}"
      ]
     },
     "execution_count": 246,
     "metadata": {},
     "output_type": "execute_result"
    }
   ],
   "source": [
    "model.best_params_"
   ]
  },
  {
   "cell_type": "code",
   "execution_count": 247,
   "id": "tight-awareness",
   "metadata": {},
   "outputs": [
    {
     "data": {
      "text/plain": [
       "(0.032572447019895256, -0.003034463790977604)"
      ]
     },
     "execution_count": 247,
     "metadata": {},
     "output_type": "execute_result"
    }
   ],
   "source": [
    "model.score(X_train, y_train), model.score(X_test, y_test)"
   ]
  },
  {
   "cell_type": "markdown",
   "id": "dependent-emergency",
   "metadata": {},
   "source": [
    "# Membandingkan Model terbaik"
   ]
  },
  {
   "cell_type": "markdown",
   "id": "reasonable-joseph",
   "metadata": {},
   "source": [
    "RandomForest = 0.018585032412645086<br>\n",
    "SVM = -0.08794601517976242<br>\n",
    "KNN = -0.003034463790977604<br>"
   ]
  },
  {
   "cell_type": "markdown",
   "id": "overall-alarm",
   "metadata": {},
   "source": [
    "Model yang memiliki score terbaik adalah RandomForest, maka model tersebut akan digunakan untuk melakukan prediksi"
   ]
  },
  {
   "cell_type": "markdown",
   "id": "enormous-merit",
   "metadata": {},
   "source": [
    "# Prediksi"
   ]
  },
  {
   "cell_type": "code",
   "execution_count": 255,
   "id": "varied-argentina",
   "metadata": {},
   "outputs": [
    {
     "data": {
      "text/plain": [
       "{'algo__n_estimators': [100, 150, 200],\n",
       " 'algo__max_depth': [20, 50, 80],\n",
       " 'algo__max_features': [0.3, 0.6, 0.8],\n",
       " 'algo__min_samples_leaf': [1, 5, 10]}"
      ]
     },
     "execution_count": 255,
     "metadata": {},
     "output_type": "execute_result"
    }
   ],
   "source": [
    "gsp.rf_params"
   ]
  },
  {
   "cell_type": "code",
   "execution_count": 256,
   "id": "included-tongue",
   "metadata": {},
   "outputs": [
    {
     "name": "stdout",
     "output_type": "stream",
     "text": [
      "Fitting 3 folds for each of 81 candidates, totalling 243 fits\n"
     ]
    },
    {
     "name": "stderr",
     "output_type": "stream",
     "text": [
      "[Parallel(n_jobs=-1)]: Using backend LokyBackend with 4 concurrent workers.\n",
      "[Parallel(n_jobs=-1)]: Done  42 tasks      | elapsed:   31.7s\n",
      "[Parallel(n_jobs=-1)]: Done 192 tasks      | elapsed:  2.9min\n",
      "[Parallel(n_jobs=-1)]: Done 243 out of 243 | elapsed:  4.2min finished\n"
     ]
    },
    {
     "name": "stdout",
     "output_type": "stream",
     "text": [
      "{'algo__max_depth': 20, 'algo__max_features': 0.3, 'algo__min_samples_leaf': 10, 'algo__n_estimators': 200}\n",
      "0.08713449086717528 0.0065299143774378106 0.018585032412645086\n"
     ]
    }
   ],
   "source": [
    "preprocessor = ColumnTransformer([\n",
    "    ('numeric', num_pipe(), ['MONTH']),\n",
    "    ('categoric', cat_pipe(encoder='onehot'), ['DAY_OF_WEEK', 'DISTRICT', 'offense_description']),\n",
    "    \n",
    "])\n",
    "\n",
    "\n",
    "pipeline = Pipeline([\n",
    "    ('prep', preprocessor),\n",
    "    ('algo', RandomForestRegressor(n_jobs=-1, random_state=42))\n",
    "])\n",
    "\n",
    "\n",
    "model = GridSearchCV(pipeline, gsp.rf_params, scoring = 'r2', cv=3, n_jobs=-1, verbose=1)\n",
    "model.fit(X_train, y_train)\n",
    "\n",
    "print(model.best_params_)\n",
    "print(model.score(X_train, y_train), model.best_score_, model.score(X_test, y_test))"
   ]
  },
  {
   "cell_type": "code",
   "execution_count": 257,
   "id": "criminal-glasgow",
   "metadata": {},
   "outputs": [
    {
     "data": {
      "text/html": [
       "<div>\n",
       "<style scoped>\n",
       "    .dataframe tbody tr th:only-of-type {\n",
       "        vertical-align: middle;\n",
       "    }\n",
       "\n",
       "    .dataframe tbody tr th {\n",
       "        vertical-align: top;\n",
       "    }\n",
       "\n",
       "    .dataframe thead th {\n",
       "        text-align: right;\n",
       "    }\n",
       "</style>\n",
       "<table border=\"1\" class=\"dataframe\">\n",
       "  <thead>\n",
       "    <tr style=\"text-align: right;\">\n",
       "      <th></th>\n",
       "      <th>DISTRICT</th>\n",
       "      <th>MONTH</th>\n",
       "      <th>DAY_OF_WEEK</th>\n",
       "      <th>offense_description</th>\n",
       "    </tr>\n",
       "  </thead>\n",
       "  <tbody>\n",
       "    <tr>\n",
       "      <th>2441</th>\n",
       "      <td>E13</td>\n",
       "      <td>12</td>\n",
       "      <td>Sunday</td>\n",
       "      <td>towed motor vehicle</td>\n",
       "    </tr>\n",
       "  </tbody>\n",
       "</table>\n",
       "</div>"
      ],
      "text/plain": [
       "     DISTRICT  MONTH DAY_OF_WEEK  offense_description\n",
       "2441      E13     12      Sunday  towed motor vehicle"
      ]
     },
     "execution_count": 257,
     "metadata": {},
     "output_type": "execute_result"
    }
   ],
   "source": [
    "X_train.iloc[:1]"
   ]
  },
  {
   "cell_type": "code",
   "execution_count": 258,
   "id": "optimum-saying",
   "metadata": {},
   "outputs": [],
   "source": [
    "X_pred = pd.DataFrame([['D14', 6, 'Thursday', 'vandalism']], columns=X_train.columns) "
   ]
  },
  {
   "cell_type": "code",
   "execution_count": 259,
   "id": "considered-restaurant",
   "metadata": {},
   "outputs": [
    {
     "data": {
      "text/plain": [
       "array([12.58779809])"
      ]
     },
     "execution_count": 259,
     "metadata": {},
     "output_type": "execute_result"
    }
   ],
   "source": [
    "model.predict(X_pred)"
   ]
  },
  {
   "cell_type": "code",
   "execution_count": null,
   "id": "israeli-palace",
   "metadata": {},
   "outputs": [],
   "source": []
  }
 ],
 "metadata": {
  "kernelspec": {
   "display_name": "Python 3",
   "language": "python",
   "name": "python3"
  },
  "language_info": {
   "codemirror_mode": {
    "name": "ipython",
    "version": 3
   },
   "file_extension": ".py",
   "mimetype": "text/x-python",
   "name": "python",
   "nbconvert_exporter": "python",
   "pygments_lexer": "ipython3",
   "version": "3.8.7"
  }
 },
 "nbformat": 4,
 "nbformat_minor": 5
}
